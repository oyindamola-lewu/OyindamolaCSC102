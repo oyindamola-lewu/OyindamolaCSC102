{
 "cells": [
  {
   "cell_type": "markdown",
   "metadata": {},
   "source": [
    "## Problem 2"
   ]
  },
  {
   "cell_type": "code",
   "execution_count": 10,
   "metadata": {},
   "outputs": [
    {
     "name": "stdout",
     "output_type": "stream",
     "text": [
      "Player one, please enter your value: 3\n",
      "Player two, please enter your value: 4\n",
      "Odds wins!\n"
     ]
    }
   ],
   "source": [
    "val1 = int(input(\"Player one, please enter your value: \"))\n",
    "val2 = int(input(\"Player two, please enter your value: \"))\n",
    "    \n",
    "if ((val1 + val2) % 2) == 0:\n",
    "    print(\"Evens wins!\")\n",
    "else:\n",
    "        print(\"Odds wins!\")"
   ]
  },
  {
   "cell_type": "markdown",
   "metadata": {},
   "source": [
    "## Problem 3"
   ]
  },
  {
   "cell_type": "code",
   "execution_count": 18,
   "metadata": {},
   "outputs": [
    {
     "name": "stdout",
     "output_type": "stream",
     "text": [
      "   R&D Spend  Administration  Marketing Spend         State  Profit\n",
      "1       1234            5678             9101         Lagos    3141\n",
      "2       1111            2222             3333     Cape Town    5555\n",
      "3       1212            2121             3232        Vienna    5555\n",
      "4       1214            7656             9000  Johannesburg    8754\n",
      "5       8989            7676             5454         Paris    8657\n"
     ]
    }
   ],
   "source": [
    "import pandas as pd\n",
    "import openpyxl\n",
    "\n",
    "df = pd.DataFrame([[1234, 5678, 9101, 'Lagos', 3141] , [1111, 2222, 3333, 'Cape Town', 5555] , [1212, 2121, 3232, 'Vienna', 5555] , [1214,7656,9000,'Johannesburg',8754] , [8989, 7676, 5454, 'Paris', 8657]],\n",
    "                 index=['1','2','3','4','5'], columns=['R&D Spend','Administration','Marketing Spend','State','Profit'])\n",
    "print(df)"
   ]
  },
  {
   "cell_type": "markdown",
   "metadata": {},
   "source": [
    "## Question 4"
   ]
  },
  {
   "cell_type": "code",
   "execution_count": 22,
   "metadata": {},
   "outputs": [
    {
     "name": "stdout",
     "output_type": "stream",
     "text": [
      "Speed is 25.0 miles per hour\n"
     ]
    }
   ],
   "source": [
    "distance= 50\n",
    "time= 2\n",
    "speed= distance/time\n",
    "print(\"Speed is\", speed, 'miles per hour')"
   ]
  },
  {
   "cell_type": "markdown",
   "metadata": {},
   "source": [
    "## Question 5"
   ]
  },
  {
   "cell_type": "code",
   "execution_count": 29,
   "metadata": {},
   "outputs": [
    {
     "name": "stdout",
     "output_type": "stream",
     "text": [
      "The solutions are (0.4384471871911697+0j) & (4.561552812808831+0j)\n"
     ]
    }
   ],
   "source": [
    "import cmath\n",
    "\n",
    "a = 1\n",
    "b = -5\n",
    "c = 2\n",
    "\n",
    "d = (b**2) - (4*a*c)\n",
    "\n",
    "sol1 = (-b-cmath.sqrt(d))/(2*a)\n",
    "sol2 = (-b+cmath.sqrt(d))/(2*a)\n",
    "\n",
    "print('The solutions are', sol1, '&', sol2)"
   ]
  },
  {
   "cell_type": "code",
   "execution_count": null,
   "metadata": {},
   "outputs": [],
   "source": []
  }
 ],
 "metadata": {
  "kernelspec": {
   "display_name": "Python 3",
   "language": "python",
   "name": "python3"
  },
  "language_info": {
   "codemirror_mode": {
    "name": "ipython",
    "version": 3
   },
   "file_extension": ".py",
   "mimetype": "text/x-python",
   "name": "python",
   "nbconvert_exporter": "python",
   "pygments_lexer": "ipython3",
   "version": "3.8.5"
  }
 },
 "nbformat": 4,
 "nbformat_minor": 4
}
