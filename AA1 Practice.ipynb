{
 "cells": [
  {
   "cell_type": "markdown",
   "metadata": {},
   "source": [
    "## Question 1\n",
    "### Find the roots of a quadratic equation Ax^2 + Bx + C = 0."
   ]
  },
  {
   "cell_type": "code",
   "execution_count": null,
   "metadata": {},
   "outputs": [],
   "source": []
  },
  {
   "cell_type": "markdown",
   "metadata": {},
   "source": [
    "## Question 2\n",
    "### Find the roots of a cubic equation Ax^3 + Bx^2 + Cx + D = 0."
   ]
  },
  {
   "cell_type": "code",
   "execution_count": null,
   "metadata": {},
   "outputs": [],
   "source": []
  },
  {
   "cell_type": "markdown",
   "metadata": {},
   "source": [
    "## Question 3\n",
    "### Find the largest of three numbers."
   ]
  },
  {
   "cell_type": "code",
   "execution_count": null,
   "metadata": {},
   "outputs": [],
   "source": [
    "def findLargest(num1, num2, num3):  \n",
    "    if (num1 >= num2) and (num1 >= num3):\n",
    "        largest = num1\n",
    "    elif (num2 >= num1) and (num2 >= num3):\n",
    "        largest = num2\n",
    "    else:\n",
    "        largest = num3\n",
    "    return largest  \n",
    "\n",
    "num1 = float(input('Enter 1st number: '))\n",
    "num2 = float(input('Enter 2nd number: '))\n",
    "num3 = float(input('Enter 3rd number: '))\n",
    "\n",
    "maximum = findLargest(num1, num2, num3)\n",
    "\n",
    "print('The largest number = ',maximum)"
   ]
  },
  {
   "cell_type": "markdown",
   "metadata": {},
   "source": [
    "## Question 4\n",
    "### Find the GCD and LCM of two numbers."
   ]
  },
  {
   "cell_type": "code",
   "execution_count": null,
   "metadata": {},
   "outputs": [],
   "source": []
  },
  {
   "cell_type": "markdown",
   "metadata": {},
   "source": [
    "## Question 5\n",
    "### Find the factorial of number n (n! = 1 * 2 * 3 * ... * n)"
   ]
  },
  {
   "cell_type": "code",
   "execution_count": null,
   "metadata": {},
   "outputs": [],
   "source": [
    "def factorial_recursion(number):\n",
    "    if number == 1:\n",
    "        return 1\n",
    "    return number * factorial_recursion(number-1)\n",
    "\n",
    "number = int(input(\"Enter a number\\n\"))\n",
    "factorial = fact(number)\n",
    "print(\"Factorial is \"+str(factorial))"
   ]
  },
  {
   "cell_type": "code",
   "execution_count": null,
   "metadata": {},
   "outputs": [],
   "source": []
  }
 ],
 "metadata": {
  "kernelspec": {
   "display_name": "Python 3",
   "language": "python",
   "name": "python3"
  },
  "language_info": {
   "codemirror_mode": {
    "name": "ipython",
    "version": 3
   },
   "file_extension": ".py",
   "mimetype": "text/x-python",
   "name": "python",
   "nbconvert_exporter": "python",
   "pygments_lexer": "ipython3",
   "version": "3.8.5"
  }
 },
 "nbformat": 4,
 "nbformat_minor": 4
}
